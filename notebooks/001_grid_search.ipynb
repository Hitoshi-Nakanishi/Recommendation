{
 "cells": [
  {
   "cell_type": "markdown",
   "metadata": {
    "colab_type": "text",
    "id": "view-in-github"
   },
   "source": [
    "<a href=\"https://colab.research.google.com/github/Hitoshi-Nakanishi/Recommendation/blob/master/001_grid_search.ipynb\" target=\"_parent\"><img src=\"https://colab.research.google.com/assets/colab-badge.svg\" alt=\"Open In Colab\"/></a>"
   ]
  },
  {
   "cell_type": "code",
   "execution_count": null,
   "metadata": {
    "colab": {},
    "colab_type": "code",
    "id": "f5ajGywzesIs",
    "outputId": "eda45f5d-3ccb-4089-db5e-2e25cdd84962"
   },
   "outputs": [
    {
     "name": "stderr",
     "output_type": "stream",
     "text": [
      "/Users/hitoshinakanishi/.pyenv/versions/3.8.0/lib/python3.8/site-packages/pandas/compat/__init__.py:117: UserWarning: Could not import the lzma module. Your installed Python is incomplete. Attempting to use lzma compression will result in a RuntimeError.\n",
      "  warnings.warn(msg)\n"
     ]
    }
   ],
   "source": [
    "from pathlib import Path\n",
    "import logging\n",
    "import pickle\n",
    "import numpy as np\n",
    "import pandas as pd\n",
    "import matplotlib.pyplot as plt\n",
    "from sklearn.model_selection import train_test_split, GridSearchCV, KFold\n",
    "\n",
    "from MatrixFactorization.PMF import PMF\n",
    "\n",
    "root_dir = Path.cwd() / Path('../data/ml-latest-small')\n",
    "logging.basicConfig(level=logging.INFO)\n",
    "logger = logging.getLogger('my_logger')"
   ]
  },
  {
   "cell_type": "code",
   "execution_count": null,
   "metadata": {
    "colab": {},
    "colab_type": "code",
    "id": "fF9gumd6Y0Ye"
   },
   "outputs": [],
   "source": [
    "movies = pd.read_csv(root_dir / 'movies.csv')\n",
    "ratings = pd.read_csv(root_dir / 'ratings.csv')\n",
    "movies.movieId = movies.movieId - 1\n",
    "ratings.userId = ratings.userId - 1\n",
    "ratings.movieId = ratings.movieId - 1"
   ]
  },
  {
   "cell_type": "code",
   "execution_count": null,
   "metadata": {
    "colab": {
     "base_uri": "https://localhost:8080/",
     "height": 205
    },
    "colab_type": "code",
    "id": "o9i0sM78ZrfB",
    "outputId": "d0457fce-fad1-4830-e9ef-6dd9a0db6307"
   },
   "outputs": [
    {
     "data": {
      "text/html": [
       "<div>\n",
       "<style scoped>\n",
       "    .dataframe tbody tr th:only-of-type {\n",
       "        vertical-align: middle;\n",
       "    }\n",
       "\n",
       "    .dataframe tbody tr th {\n",
       "        vertical-align: top;\n",
       "    }\n",
       "\n",
       "    .dataframe thead th {\n",
       "        text-align: right;\n",
       "    }\n",
       "</style>\n",
       "<table border=\"1\" class=\"dataframe\">\n",
       "  <thead>\n",
       "    <tr style=\"text-align: right;\">\n",
       "      <th></th>\n",
       "      <th>movieId</th>\n",
       "      <th>title</th>\n",
       "      <th>genres</th>\n",
       "    </tr>\n",
       "  </thead>\n",
       "  <tbody>\n",
       "    <tr>\n",
       "      <th>0</th>\n",
       "      <td>0</td>\n",
       "      <td>Toy Story (1995)</td>\n",
       "      <td>Adventure|Animation|Children|Comedy|Fantasy</td>\n",
       "    </tr>\n",
       "    <tr>\n",
       "      <th>1</th>\n",
       "      <td>1</td>\n",
       "      <td>Jumanji (1995)</td>\n",
       "      <td>Adventure|Children|Fantasy</td>\n",
       "    </tr>\n",
       "  </tbody>\n",
       "</table>\n",
       "</div>"
      ],
      "text/plain": [
       "   movieId             title                                       genres\n",
       "0        0  Toy Story (1995)  Adventure|Animation|Children|Comedy|Fantasy\n",
       "1        1    Jumanji (1995)                   Adventure|Children|Fantasy"
      ]
     },
     "metadata": {
      "tags": []
     },
     "output_type": "display_data"
    },
    {
     "data": {
      "text/html": [
       "<div>\n",
       "<style scoped>\n",
       "    .dataframe tbody tr th:only-of-type {\n",
       "        vertical-align: middle;\n",
       "    }\n",
       "\n",
       "    .dataframe tbody tr th {\n",
       "        vertical-align: top;\n",
       "    }\n",
       "\n",
       "    .dataframe thead th {\n",
       "        text-align: right;\n",
       "    }\n",
       "</style>\n",
       "<table border=\"1\" class=\"dataframe\">\n",
       "  <thead>\n",
       "    <tr style=\"text-align: right;\">\n",
       "      <th></th>\n",
       "      <th>userId</th>\n",
       "      <th>movieId</th>\n",
       "      <th>rating</th>\n",
       "      <th>timestamp</th>\n",
       "    </tr>\n",
       "  </thead>\n",
       "  <tbody>\n",
       "    <tr>\n",
       "      <th>0</th>\n",
       "      <td>0</td>\n",
       "      <td>0</td>\n",
       "      <td>4.0</td>\n",
       "      <td>964982703</td>\n",
       "    </tr>\n",
       "    <tr>\n",
       "      <th>1</th>\n",
       "      <td>0</td>\n",
       "      <td>2</td>\n",
       "      <td>4.0</td>\n",
       "      <td>964981247</td>\n",
       "    </tr>\n",
       "  </tbody>\n",
       "</table>\n",
       "</div>"
      ],
      "text/plain": [
       "   userId  movieId  rating  timestamp\n",
       "0       0        0     4.0  964982703\n",
       "1       0        2     4.0  964981247"
      ]
     },
     "metadata": {
      "tags": []
     },
     "output_type": "display_data"
    }
   ],
   "source": [
    "display(movies.head(2))\n",
    "display(ratings.head(2))"
   ]
  },
  {
   "cell_type": "code",
   "execution_count": null,
   "metadata": {
    "colab": {
     "base_uri": "https://localhost:8080/",
     "height": 51
    },
    "colab_type": "code",
    "id": "7EC3Qazjm7LV",
    "outputId": "9a2f2530-1fb9-47b2-9037-478fb285ec5e",
    "tags": []
   },
   "outputs": [
    {
     "name": "stdout",
     "output_type": "stream",
     "text": [
      "(11572, 3)\n"
     ]
    }
   ],
   "source": [
    "ratings2 = ratings.query('movieId < 400').iloc[:,:3].values.astype(np.int)\n",
    "print(ratings2.shape)\n",
    "dims = {}\n",
    "dims['N'] = ratings2[:,0].max() + 1\n",
    "dims['M'] = ratings2[:,1].max() + 1"
   ]
  },
  {
   "cell_type": "markdown",
   "metadata": {
    "colab_type": "text",
    "id": "Qf-43Z56KQKA"
   },
   "source": [
    "# Maximum a posteriori\n",
    "\n",
    "To train Probabilistic Matrix Factorization model, we maximize a posteriori distribution by coordinate ascent algorithm.\n",
    "\n",
    "\\begin{align}\n",
    "u_i &= \\left(\\lambda \\sigma^2 I + \\sum_{j \\in \\Omega_{u_i}} v_j v_j^T \\right)^{-1} \\left( \\sum_{j \\in \\Omega_{u_i}} M_{ij} v_j\\right) \\\\\n",
    "v_i &= \\left(\\lambda \\sigma^2 I + \\sum_{i \\in \\Omega_{v_j}} u_j u_j^T \\right)^{-1} \\left(\\sum_{i \\in \\Omega_{v_j}} M_{ij} u_j \\right) \\\\\n",
    "\\end{align}\n",
    "\n",
    "Here, we see two hyperparameters: the factor of regularization term $\\lambda \\sigma^2$ and feature space dimension $D = \\text{dim(U's col)}$\n",
    "the best hyperparamters are searched from grids below using 3-fold cross validation"
   ]
  },
  {
   "cell_type": "code",
   "execution_count": null,
   "metadata": {
    "colab": {},
    "colab_type": "code",
    "id": "f6l35frEOTl1",
    "outputId": "9d944cc4-2bb7-41e5-df74-b050684ce126",
    "tags": []
   },
   "outputs": [
    {
     "name": "stdout",
     "output_type": "stream",
     "text": [
      "CPU times: user 2min 15s, sys: 18.5 s, total: 2min 34s\n",
      "Wall time: 17min 12s\n"
     ]
    }
   ],
   "source": [
    "%%time\n",
    "params = {'dims': dims, 'dim_D': 10, 'lambda_': 1, 'sigma2': 2, 'epoch_num': 10, 'logger': None}\n",
    "pmf = PMF(**params)\n",
    "tuned_parameters = {'dim_D': [2, 5, 10, 15], 'lambda_': [1.0], 'sigma2': [0.01, 0.1, 0.5, 1, 2, 4]}\n",
    "gs = GridSearchCV(pmf, tuned_parameters, cv=KFold(n_splits=3, shuffle=True), n_jobs=4)\n",
    "gs.fit(ratings2)\n",
    "\n",
    "with open('gs.pickle', 'wb') as f:\n",
    "    pickle.dump(gs, f)"
   ]
  },
  {
   "cell_type": "markdown",
   "metadata": {
    "colab_type": "text",
    "id": "xtYu-O19OTl3"
   },
   "source": [
    "# how to load dumped pickle file about gridsearch\n",
    "\n",
    "```python\n",
    "with open('gs.pickle', 'rb') as f:\n",
    "    gs2 = pickle.load(f)\n",
    "\n",
    "```"
   ]
  }
 ],
 "metadata": {
  "colab": {
   "collapsed_sections": [],
   "include_colab_link": true,
   "name": "000_grid_search.ipynb",
   "provenance": []
  },
  "kernelspec": {
   "display_name": "Python 3.8.0 64-bit ('3.8.0': pyenv)",
   "language": "python",
   "name": "python38064bit380pyenv35ff698b3a7146b0bfb87c75595d48f6"
  },
  "language_info": {
   "codemirror_mode": {
    "name": "ipython",
    "version": 3
   },
   "file_extension": ".py",
   "mimetype": "text/x-python",
   "name": "python",
   "nbconvert_exporter": "python",
   "pygments_lexer": "ipython3",
   "version": "3.8.0"
  }
 },
 "nbformat": 4,
 "nbformat_minor": 4
}
