{
 "cells": [
  {
   "cell_type": "markdown",
   "metadata": {
    "colab_type": "text",
    "id": "view-in-github"
   },
   "source": [
    "<a href=\"https://colab.research.google.com/github/Hitoshi-Nakanishi/Recommendation/blob/master/003_best_result.ipynb\" target=\"_parent\"><img src=\"https://colab.research.google.com/assets/colab-badge.svg\" alt=\"Open In Colab\"/></a>"
   ]
  },
  {
   "cell_type": "code",
   "execution_count": null,
   "metadata": {
    "colab": {},
    "colab_type": "code",
    "id": "f5ajGywzesIs",
    "outputId": "3f9d727c-3092-4c73-d404-5938219587e0"
   },
   "outputs": [
    {
     "name": "stderr",
     "output_type": "stream",
     "text": [
      "/Users/hitoshinakanishi/.pyenv/versions/3.8.0/lib/python3.8/site-packages/pandas/compat/__init__.py:117: UserWarning: Could not import the lzma module. Your installed Python is incomplete. Attempting to use lzma compression will result in a RuntimeError.\n",
      "  warnings.warn(msg)\n"
     ]
    }
   ],
   "source": [
    "from pathlib import Path\n",
    "import logging\n",
    "import pickle\n",
    "import numpy as np\n",
    "import pandas as pd\n",
    "import matplotlib.pyplot as plt\n",
    "from sklearn.model_selection import train_test_split\n",
    "\n",
    "from MatrixFactorization.PMF import PMF\n",
    "\n",
    "root_dir = Path.cwd() / Path('../data/ml-latest-small')\n",
    "logging.basicConfig(level=logging.INFO)\n",
    "logger = logging.getLogger('my_logger')"
   ]
  },
  {
   "cell_type": "code",
   "execution_count": null,
   "metadata": {
    "colab": {},
    "colab_type": "code",
    "id": "fF9gumd6Y0Ye"
   },
   "outputs": [],
   "source": [
    "movies = pd.read_csv(root_dir / 'movies.csv')\n",
    "ratings = pd.read_csv(root_dir / 'ratings.csv')\n",
    "movies.movieId = movies.movieId - 1\n",
    "ratings.userId = ratings.userId - 1\n",
    "ratings.movieId = ratings.movieId - 1"
   ]
  },
  {
   "cell_type": "code",
   "execution_count": null,
   "metadata": {
    "colab": {
     "base_uri": "https://localhost:8080/",
     "height": 205
    },
    "colab_type": "code",
    "id": "o9i0sM78ZrfB",
    "outputId": "d0457fce-fad1-4830-e9ef-6dd9a0db6307"
   },
   "outputs": [
    {
     "data": {
      "text/html": [
       "<div>\n",
       "<style scoped>\n",
       "    .dataframe tbody tr th:only-of-type {\n",
       "        vertical-align: middle;\n",
       "    }\n",
       "\n",
       "    .dataframe tbody tr th {\n",
       "        vertical-align: top;\n",
       "    }\n",
       "\n",
       "    .dataframe thead th {\n",
       "        text-align: right;\n",
       "    }\n",
       "</style>\n",
       "<table border=\"1\" class=\"dataframe\">\n",
       "  <thead>\n",
       "    <tr style=\"text-align: right;\">\n",
       "      <th></th>\n",
       "      <th>movieId</th>\n",
       "      <th>title</th>\n",
       "      <th>genres</th>\n",
       "    </tr>\n",
       "  </thead>\n",
       "  <tbody>\n",
       "    <tr>\n",
       "      <th>0</th>\n",
       "      <td>0</td>\n",
       "      <td>Toy Story (1995)</td>\n",
       "      <td>Adventure|Animation|Children|Comedy|Fantasy</td>\n",
       "    </tr>\n",
       "    <tr>\n",
       "      <th>1</th>\n",
       "      <td>1</td>\n",
       "      <td>Jumanji (1995)</td>\n",
       "      <td>Adventure|Children|Fantasy</td>\n",
       "    </tr>\n",
       "  </tbody>\n",
       "</table>\n",
       "</div>"
      ],
      "text/plain": [
       "   movieId             title                                       genres\n",
       "0        0  Toy Story (1995)  Adventure|Animation|Children|Comedy|Fantasy\n",
       "1        1    Jumanji (1995)                   Adventure|Children|Fantasy"
      ]
     },
     "metadata": {
      "tags": []
     },
     "output_type": "display_data"
    },
    {
     "data": {
      "text/html": [
       "<div>\n",
       "<style scoped>\n",
       "    .dataframe tbody tr th:only-of-type {\n",
       "        vertical-align: middle;\n",
       "    }\n",
       "\n",
       "    .dataframe tbody tr th {\n",
       "        vertical-align: top;\n",
       "    }\n",
       "\n",
       "    .dataframe thead th {\n",
       "        text-align: right;\n",
       "    }\n",
       "</style>\n",
       "<table border=\"1\" class=\"dataframe\">\n",
       "  <thead>\n",
       "    <tr style=\"text-align: right;\">\n",
       "      <th></th>\n",
       "      <th>userId</th>\n",
       "      <th>movieId</th>\n",
       "      <th>rating</th>\n",
       "      <th>timestamp</th>\n",
       "    </tr>\n",
       "  </thead>\n",
       "  <tbody>\n",
       "    <tr>\n",
       "      <th>0</th>\n",
       "      <td>0</td>\n",
       "      <td>0</td>\n",
       "      <td>4.0</td>\n",
       "      <td>964982703</td>\n",
       "    </tr>\n",
       "    <tr>\n",
       "      <th>1</th>\n",
       "      <td>0</td>\n",
       "      <td>2</td>\n",
       "      <td>4.0</td>\n",
       "      <td>964981247</td>\n",
       "    </tr>\n",
       "  </tbody>\n",
       "</table>\n",
       "</div>"
      ],
      "text/plain": [
       "   userId  movieId  rating  timestamp\n",
       "0       0        0     4.0  964982703\n",
       "1       0        2     4.0  964981247"
      ]
     },
     "metadata": {
      "tags": []
     },
     "output_type": "display_data"
    }
   ],
   "source": [
    "display(movies.head(2))\n",
    "display(ratings.head(2))"
   ]
  },
  {
   "cell_type": "code",
   "execution_count": null,
   "metadata": {
    "colab": {
     "base_uri": "https://localhost:8080/",
     "height": 51
    },
    "colab_type": "code",
    "id": "7EC3Qazjm7LV",
    "outputId": "9a2f2530-1fb9-47b2-9037-478fb285ec5e",
    "tags": []
   },
   "outputs": [
    {
     "name": "stdout",
     "output_type": "stream",
     "text": [
      "(11572, 3)\n"
     ]
    }
   ],
   "source": [
    "ratings2 = ratings.query('movieId < 400').iloc[:,:3].values.astype(np.int)\n",
    "print(ratings2.shape)\n",
    "dims = {}\n",
    "dims['N'] = ratings2[:,0].max() + 1\n",
    "dims['M'] = ratings2[:,1].max() + 1"
   ]
  },
  {
   "cell_type": "code",
   "execution_count": null,
   "metadata": {
    "colab": {},
    "colab_type": "code",
    "id": "tdygrmBKOUy8",
    "outputId": "be36a819-69ab-4922-a0eb-bb9b947d8f1c",
    "tags": []
   },
   "outputs": [
    {
     "name": "stderr",
     "output_type": "stream",
     "text": [
      "INFO:my_logger:epoch: 0 🤔 start to compute U\n",
      "INFO:my_logger:epoch: 0 😁 start to compute V\n",
      "INFO:my_logger:epoch: 1 🤔 start to compute U\n",
      "INFO:my_logger:epoch: 1 😁 start to compute V\n",
      "INFO:my_logger:epoch: 2 🤔 start to compute U\n",
      "INFO:my_logger:epoch: 2 😁 start to compute V\n",
      "INFO:my_logger:epoch: 3 🤔 start to compute U\n",
      "INFO:my_logger:epoch: 3 😁 start to compute V\n",
      "INFO:my_logger:epoch: 4 🤔 start to compute U\n",
      "INFO:my_logger:epoch: 4 😁 start to compute V\n",
      "INFO:my_logger:epoch: 5 🤔 start to compute U\n",
      "INFO:my_logger:epoch: 5 😁 start to compute V\n",
      "INFO:my_logger:epoch: 6 🤔 start to compute U\n",
      "INFO:my_logger:epoch: 6 😁 start to compute V\n",
      "INFO:my_logger:epoch: 7 🤔 start to compute U\n",
      "INFO:my_logger:epoch: 7 😁 start to compute V\n",
      "INFO:my_logger:epoch: 8 🤔 start to compute U\n",
      "INFO:my_logger:epoch: 8 😁 start to compute V\n"
     ]
    },
    {
     "name": "stdout",
     "output_type": "stream",
     "text": [
      "CPU times: user 27.4 s, sys: 1.84 s, total: 29.3 s\n",
      "Wall time: 16.5 s\n"
     ]
    },
    {
     "data": {
      "text/plain": [
       "<matplotlib.legend.Legend at 0x12c088100>"
      ]
     },
     "execution_count": 5,
     "metadata": {
      "tags": []
     },
     "output_type": "execute_result"
    },
    {
     "data": {
      "image/png": "[encoded data removed]",
      "text/plain": [
       "<Figure size 720x360 with 1 Axes>"
      ]
     },
     "metadata": {
      "tags": []
     },
     "output_type": "display_data"
    }
   ],
   "source": [
    "%%time\n",
    "train_r, test_r = train_test_split(ratings2, test_size=0.2)\n",
    "params = {'dims': dims, 'dim_D': 2, 'lambda_': 1, 'sigma2': 1, 'epoch_num': 10, 'logger': logger}\n",
    "pmf = PMF(**params).fit(train_r)\n",
    "train_mse = pmf.compute_hitstorical_errors(train_r)\n",
    "test_mse = pmf.compute_hitstorical_errors(test_r)\n",
    "result = pd.concat([train_mse.to_frame('train mse'),\n",
    "                    test_mse.to_frame('test mse')], axis=1)\n",
    "fig, ax = plt.subplots(figsize=(10,5), facecolor='white')\n",
    "result.plot(ax=ax)\n",
    "plt.legend(frameon=False)"
   ]
  },
  {
   "cell_type": "code",
   "execution_count": null,
   "metadata": {
    "colab": {},
    "colab_type": "code",
    "id": "UHFkMfG4OUy-",
    "outputId": "0414003f-4043-4c81-cd9f-630a52dab00c"
   },
   "outputs": [
    {
     "name": "stderr",
     "output_type": "stream",
     "text": [
      "INFO:my_logger:epoch: 0 🤔 start to compute U\n",
      "INFO:my_logger:epoch: 0 😁 start to compute V\n",
      "INFO:my_logger:epoch: 1 🤔 start to compute U\n",
      "INFO:my_logger:epoch: 1 😁 start to compute V\n",
      "INFO:my_logger:epoch: 2 🤔 start to compute U\n",
      "INFO:my_logger:epoch: 2 😁 start to compute V\n",
      "INFO:my_logger:epoch: 3 🤔 start to compute U\n",
      "INFO:my_logger:epoch: 3 😁 start to compute V\n",
      "INFO:my_logger:epoch: 4 🤔 start to compute U\n",
      "INFO:my_logger:epoch: 4 😁 start to compute V\n",
      "INFO:my_logger:epoch: 5 🤔 start to compute U\n",
      "INFO:my_logger:epoch: 5 😁 start to compute V\n",
      "INFO:my_logger:epoch: 6 🤔 start to compute U\n",
      "INFO:my_logger:epoch: 6 😁 start to compute V\n",
      "INFO:my_logger:epoch: 7 🤔 start to compute U\n",
      "INFO:my_logger:epoch: 7 😁 start to compute V\n",
      "INFO:my_logger:epoch: 8 🤔 start to compute U\n",
      "INFO:my_logger:epoch: 8 😁 start to compute V\n",
      "INFO:my_logger:epoch: 9 🤔 start to compute U\n",
      "INFO:my_logger:epoch: 9 😁 start to compute V\n",
      "INFO:my_logger:epoch: 10 🤔 start to compute U\n",
      "INFO:my_logger:epoch: 10 😁 start to compute V\n",
      "INFO:my_logger:epoch: 11 🤔 start to compute U\n",
      "INFO:my_logger:epoch: 11 😁 start to compute V\n",
      "INFO:my_logger:epoch: 12 🤔 start to compute U\n",
      "INFO:my_logger:epoch: 12 😁 start to compute V\n",
      "INFO:my_logger:epoch: 13 🤔 start to compute U\n",
      "INFO:my_logger:epoch: 13 😁 start to compute V\n",
      "INFO:my_logger:epoch: 14 🤔 start to compute U\n",
      "INFO:my_logger:epoch: 14 😁 start to compute V\n",
      "INFO:my_logger:epoch: 15 🤔 start to compute U\n",
      "INFO:my_logger:epoch: 15 😁 start to compute V\n",
      "INFO:my_logger:epoch: 16 🤔 start to compute U\n",
      "INFO:my_logger:epoch: 16 😁 start to compute V\n",
      "INFO:my_logger:epoch: 17 🤔 start to compute U\n",
      "INFO:my_logger:epoch: 17 😁 start to compute V\n",
      "INFO:my_logger:epoch: 18 🤔 start to compute U\n",
      "INFO:my_logger:epoch: 18 😁 start to compute V\n"
     ]
    },
    {
     "name": "stdout",
     "output_type": "stream",
     "text": [
      "CPU times: user 1min 58s, sys: 13.5 s, total: 2min 12s\n",
      "Wall time: 38.4 s\n"
     ]
    },
    {
     "data": {
      "text/plain": [
       "<matplotlib.legend.Legend at 0x12c130fa0>"
      ]
     },
     "execution_count": 7,
     "metadata": {
      "tags": []
     },
     "output_type": "execute_result"
    },
    {
     "data": {
      "image/png": "[encoded data removed]",
      "text/plain": [
       "<Figure size 720x360 with 1 Axes>"
      ]
     },
     "metadata": {
      "tags": []
     },
     "output_type": "display_data"
    }
   ],
   "source": [
    "%%time\n",
    "train_r, test_r = train_test_split(ratings2, test_size=0.2)\n",
    "params = {'dims': dims, 'dim_D': 15, 'lambda_': 1, 'sigma2': 1, 'epoch_num': 20, 'logger': logger}\n",
    "pmf = PMF(**params).fit(train_r)\n",
    "train_mse = pmf.compute_hitstorical_errors(train_r)\n",
    "test_mse = pmf.compute_hitstorical_errors(test_r)\n",
    "result = pd.concat([train_mse.to_frame('train mse'),\n",
    "                    test_mse.to_frame('test mse')], axis=1)\n",
    "fig, ax = plt.subplots(figsize=(10,5), facecolor='white')\n",
    "result.plot(ax=ax)\n",
    "plt.legend(frameon=False)"
   ]
  },
  {
   "cell_type": "markdown",
   "metadata": {
    "colab_type": "text",
    "id": "gOa3tlRJOUzB"
   },
   "source": [
    "# Result\n",
    "\n",
    "After a few ieration, the model with best hypyerparameters is rapidly converged and well-generalized to mitigate test error.\n",
    "\n",
    "In large feature dimension case, there is the genelarization gap between training error and testing error."
   ]
  },
  {
   "cell_type": "code",
   "execution_count": null,
   "metadata": {
    "colab": {},
    "colab_type": "code",
    "id": "zc4CvLMiOUzB"
   },
   "outputs": [],
   "source": []
  }
 ],
 "metadata": {
  "colab": {
   "collapsed_sections": [],
   "include_colab_link": true,
   "name": "002_best_result.ipynb",
   "provenance": []
  },
  "kernelspec": {
   "display_name": "Python 3.8.0 64-bit ('3.8.0': pyenv)",
   "language": "python",
   "name": "python38064bit380pyenv35ff698b3a7146b0bfb87c75595d48f6"
  },
  "language_info": {
   "codemirror_mode": {
    "name": "ipython",
    "version": 3
   },
   "file_extension": ".py",
   "mimetype": "text/x-python",
   "name": "python",
   "nbconvert_exporter": "python",
   "pygments_lexer": "ipython3",
   "version": "3.8.0"
  }
 },
 "nbformat": 4,
 "nbformat_minor": 4
}
