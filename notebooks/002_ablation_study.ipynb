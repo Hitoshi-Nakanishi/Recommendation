{
 "cells": [
  {
   "cell_type": "markdown",
   "metadata": {
    "colab_type": "text",
    "id": "view-in-github"
   },
   "source": [
    "<a href=\"https://colab.research.google.com/github/Hitoshi-Nakanishi/Recommendation/blob/master/002_ablation_study.ipynb\" target=\"_parent\"><img src=\"https://colab.research.google.com/assets/colab-badge.svg\" alt=\"Open In Colab\"/></a>"
   ]
  },
  {
   "cell_type": "code",
   "execution_count": null,
   "metadata": {
    "colab": {},
    "colab_type": "code",
    "id": "f5ajGywzesIs",
    "outputId": "6af81f93-7986-46bf-a2d2-57f31dca7eae"
   },
   "outputs": [
    {
     "name": "stderr",
     "output_type": "stream",
     "text": [
      "/Users/hitoshinakanishi/.pyenv/versions/3.8.0/lib/python3.8/site-packages/pandas/compat/__init__.py:117: UserWarning: Could not import the lzma module. Your installed Python is incomplete. Attempting to use lzma compression will result in a RuntimeError.\n",
      "  warnings.warn(msg)\n"
     ]
    }
   ],
   "source": [
    "import numpy as np\n",
    "import pandas as pd\n",
    "import pickle\n",
    "import matplotlib.pyplot as plt\n",
    "import seaborn as sns\n",
    "\n",
    "sns.set_context(\"notebook\", font_scale=1.5)"
   ]
  },
  {
   "cell_type": "code",
   "execution_count": null,
   "metadata": {
    "colab": {},
    "colab_type": "code",
    "id": "sl3X0vfVOTfu"
   },
   "outputs": [],
   "source": [
    "with open('gs.pickle', 'rb') as f:\n",
    "    gs = pickle.load(f)\n",
    "\n",
    "def get_result_df(gs):\n",
    "    params = pd.DataFrame(gs.cv_results_['params'])\n",
    "    mean_test = pd.Series(gs.cv_results_['mean_test_score']).to_frame('mean_test_score')\n",
    "    std_test_score = pd.Series(gs.cv_results_['std_test_score']).to_frame('std_test_score')\n",
    "    rank_test_score = pd.Series(gs.cv_results_['rank_test_score']).to_frame('rank_test_score')    \n",
    "    result_df = params.join(mean_test).join(std_test_score).join(rank_test_score)\n",
    "    return result_df\n",
    "\n",
    "result_df = get_result_df(gs)"
   ]
  },
  {
   "cell_type": "markdown",
   "metadata": {
    "colab_type": "text",
    "id": "r5ysDVuxOTfw"
   },
   "source": [
    "# top 10 / bot 10 sorted by averaged test score"
   ]
  },
  {
   "cell_type": "code",
   "execution_count": null,
   "metadata": {
    "colab": {},
    "colab_type": "code",
    "id": "ZlsCvkghOTfx",
    "outputId": "68fac7fe-e95e-4a40-f826-1b3a7ff38241"
   },
   "outputs": [
    {
     "data": {
      "text/html": [
       "<div>\n",
       "<style scoped>\n",
       "    .dataframe tbody tr th:only-of-type {\n",
       "        vertical-align: middle;\n",
       "    }\n",
       "\n",
       "    .dataframe tbody tr th {\n",
       "        vertical-align: top;\n",
       "    }\n",
       "\n",
       "    .dataframe thead th {\n",
       "        text-align: right;\n",
       "    }\n",
       "</style>\n",
       "<table border=\"1\" class=\"dataframe\">\n",
       "  <thead>\n",
       "    <tr style=\"text-align: right;\">\n",
       "      <th></th>\n",
       "      <th>dim_D</th>\n",
       "      <th>lambda_</th>\n",
       "      <th>sigma2</th>\n",
       "      <th>mean_test_score</th>\n",
       "      <th>std_test_score</th>\n",
       "      <th>rank_test_score</th>\n",
       "    </tr>\n",
       "  </thead>\n",
       "  <tbody>\n",
       "    <tr>\n",
       "      <th>3</th>\n",
       "      <td>2</td>\n",
       "      <td>1.0</td>\n",
       "      <td>1.0</td>\n",
       "      <td>1.073417</td>\n",
       "      <td>0.016199</td>\n",
       "      <td>24</td>\n",
       "    </tr>\n",
       "    <tr>\n",
       "      <th>4</th>\n",
       "      <td>2</td>\n",
       "      <td>1.0</td>\n",
       "      <td>2.0</td>\n",
       "      <td>1.097108</td>\n",
       "      <td>0.019576</td>\n",
       "      <td>23</td>\n",
       "    </tr>\n",
       "    <tr>\n",
       "      <th>2</th>\n",
       "      <td>2</td>\n",
       "      <td>1.0</td>\n",
       "      <td>0.5</td>\n",
       "      <td>1.115078</td>\n",
       "      <td>0.035726</td>\n",
       "      <td>22</td>\n",
       "    </tr>\n",
       "    <tr>\n",
       "      <th>5</th>\n",
       "      <td>2</td>\n",
       "      <td>1.0</td>\n",
       "      <td>4.0</td>\n",
       "      <td>1.211123</td>\n",
       "      <td>0.015629</td>\n",
       "      <td>21</td>\n",
       "    </tr>\n",
       "    <tr>\n",
       "      <th>1</th>\n",
       "      <td>2</td>\n",
       "      <td>1.0</td>\n",
       "      <td>0.1</td>\n",
       "      <td>1.245248</td>\n",
       "      <td>0.008237</td>\n",
       "      <td>20</td>\n",
       "    </tr>\n",
       "    <tr>\n",
       "      <th>11</th>\n",
       "      <td>5</td>\n",
       "      <td>1.0</td>\n",
       "      <td>4.0</td>\n",
       "      <td>1.288207</td>\n",
       "      <td>0.019122</td>\n",
       "      <td>19</td>\n",
       "    </tr>\n",
       "    <tr>\n",
       "      <th>10</th>\n",
       "      <td>5</td>\n",
       "      <td>1.0</td>\n",
       "      <td>2.0</td>\n",
       "      <td>1.347574</td>\n",
       "      <td>0.002930</td>\n",
       "      <td>18</td>\n",
       "    </tr>\n",
       "    <tr>\n",
       "      <th>9</th>\n",
       "      <td>5</td>\n",
       "      <td>1.0</td>\n",
       "      <td>1.0</td>\n",
       "      <td>1.374702</td>\n",
       "      <td>0.044306</td>\n",
       "      <td>17</td>\n",
       "    </tr>\n",
       "    <tr>\n",
       "      <th>17</th>\n",
       "      <td>10</td>\n",
       "      <td>1.0</td>\n",
       "      <td>4.0</td>\n",
       "      <td>1.404766</td>\n",
       "      <td>0.027450</td>\n",
       "      <td>16</td>\n",
       "    </tr>\n",
       "    <tr>\n",
       "      <th>23</th>\n",
       "      <td>15</td>\n",
       "      <td>1.0</td>\n",
       "      <td>4.0</td>\n",
       "      <td>1.417557</td>\n",
       "      <td>0.009337</td>\n",
       "      <td>15</td>\n",
       "    </tr>\n",
       "  </tbody>\n",
       "</table>\n",
       "</div>"
      ],
      "text/plain": [
       "    dim_D  lambda_  sigma2  mean_test_score  std_test_score  rank_test_score\n",
       "3       2      1.0     1.0         1.073417        0.016199               24\n",
       "4       2      1.0     2.0         1.097108        0.019576               23\n",
       "2       2      1.0     0.5         1.115078        0.035726               22\n",
       "5       2      1.0     4.0         1.211123        0.015629               21\n",
       "1       2      1.0     0.1         1.245248        0.008237               20\n",
       "11      5      1.0     4.0         1.288207        0.019122               19\n",
       "10      5      1.0     2.0         1.347574        0.002930               18\n",
       "9       5      1.0     1.0         1.374702        0.044306               17\n",
       "17     10      1.0     4.0         1.404766        0.027450               16\n",
       "23     15      1.0     4.0         1.417557        0.009337               15"
      ]
     },
     "execution_count": 3,
     "metadata": {
      "tags": []
     },
     "output_type": "execute_result"
    }
   ],
   "source": [
    "result_df.sort_values('rank_test_score', ascending=False).head(10)"
   ]
  },
  {
   "cell_type": "code",
   "execution_count": null,
   "metadata": {
    "colab": {},
    "colab_type": "code",
    "id": "gpJSkZq-OTf0",
    "outputId": "401b9f3f-70f9-4fcd-b8b4-8aef0e7244d0"
   },
   "outputs": [
    {
     "data": {
      "text/html": [
       "<div>\n",
       "<style scoped>\n",
       "    .dataframe tbody tr th:only-of-type {\n",
       "        vertical-align: middle;\n",
       "    }\n",
       "\n",
       "    .dataframe tbody tr th {\n",
       "        vertical-align: top;\n",
       "    }\n",
       "\n",
       "    .dataframe thead th {\n",
       "        text-align: right;\n",
       "    }\n",
       "</style>\n",
       "<table border=\"1\" class=\"dataframe\">\n",
       "  <thead>\n",
       "    <tr style=\"text-align: right;\">\n",
       "      <th></th>\n",
       "      <th>dim_D</th>\n",
       "      <th>lambda_</th>\n",
       "      <th>sigma2</th>\n",
       "      <th>mean_test_score</th>\n",
       "      <th>std_test_score</th>\n",
       "      <th>rank_test_score</th>\n",
       "    </tr>\n",
       "  </thead>\n",
       "  <tbody>\n",
       "    <tr>\n",
       "      <th>7</th>\n",
       "      <td>5</td>\n",
       "      <td>1.0</td>\n",
       "      <td>0.10</td>\n",
       "      <td>1.727687</td>\n",
       "      <td>0.061568</td>\n",
       "      <td>10</td>\n",
       "    </tr>\n",
       "    <tr>\n",
       "      <th>15</th>\n",
       "      <td>10</td>\n",
       "      <td>1.0</td>\n",
       "      <td>1.00</td>\n",
       "      <td>1.745708</td>\n",
       "      <td>0.053451</td>\n",
       "      <td>9</td>\n",
       "    </tr>\n",
       "    <tr>\n",
       "      <th>21</th>\n",
       "      <td>15</td>\n",
       "      <td>1.0</td>\n",
       "      <td>1.00</td>\n",
       "      <td>1.778350</td>\n",
       "      <td>0.031914</td>\n",
       "      <td>8</td>\n",
       "    </tr>\n",
       "    <tr>\n",
       "      <th>14</th>\n",
       "      <td>10</td>\n",
       "      <td>1.0</td>\n",
       "      <td>0.50</td>\n",
       "      <td>1.872668</td>\n",
       "      <td>0.027931</td>\n",
       "      <td>7</td>\n",
       "    </tr>\n",
       "    <tr>\n",
       "      <th>20</th>\n",
       "      <td>15</td>\n",
       "      <td>1.0</td>\n",
       "      <td>0.50</td>\n",
       "      <td>2.045653</td>\n",
       "      <td>0.083662</td>\n",
       "      <td>6</td>\n",
       "    </tr>\n",
       "    <tr>\n",
       "      <th>13</th>\n",
       "      <td>10</td>\n",
       "      <td>1.0</td>\n",
       "      <td>0.10</td>\n",
       "      <td>2.369973</td>\n",
       "      <td>0.096118</td>\n",
       "      <td>5</td>\n",
       "    </tr>\n",
       "    <tr>\n",
       "      <th>19</th>\n",
       "      <td>15</td>\n",
       "      <td>1.0</td>\n",
       "      <td>0.10</td>\n",
       "      <td>2.797615</td>\n",
       "      <td>0.154216</td>\n",
       "      <td>4</td>\n",
       "    </tr>\n",
       "    <tr>\n",
       "      <th>6</th>\n",
       "      <td>5</td>\n",
       "      <td>1.0</td>\n",
       "      <td>0.01</td>\n",
       "      <td>3.168506</td>\n",
       "      <td>1.002437</td>\n",
       "      <td>3</td>\n",
       "    </tr>\n",
       "    <tr>\n",
       "      <th>12</th>\n",
       "      <td>10</td>\n",
       "      <td>1.0</td>\n",
       "      <td>0.01</td>\n",
       "      <td>3.824862</td>\n",
       "      <td>0.224304</td>\n",
       "      <td>2</td>\n",
       "    </tr>\n",
       "    <tr>\n",
       "      <th>18</th>\n",
       "      <td>15</td>\n",
       "      <td>1.0</td>\n",
       "      <td>0.01</td>\n",
       "      <td>4.852644</td>\n",
       "      <td>0.304839</td>\n",
       "      <td>1</td>\n",
       "    </tr>\n",
       "  </tbody>\n",
       "</table>\n",
       "</div>"
      ],
      "text/plain": [
       "    dim_D  lambda_  sigma2  mean_test_score  std_test_score  rank_test_score\n",
       "7       5      1.0    0.10         1.727687        0.061568               10\n",
       "15     10      1.0    1.00         1.745708        0.053451                9\n",
       "21     15      1.0    1.00         1.778350        0.031914                8\n",
       "14     10      1.0    0.50         1.872668        0.027931                7\n",
       "20     15      1.0    0.50         2.045653        0.083662                6\n",
       "13     10      1.0    0.10         2.369973        0.096118                5\n",
       "19     15      1.0    0.10         2.797615        0.154216                4\n",
       "6       5      1.0    0.01         3.168506        1.002437                3\n",
       "12     10      1.0    0.01         3.824862        0.224304                2\n",
       "18     15      1.0    0.01         4.852644        0.304839                1"
      ]
     },
     "execution_count": 4,
     "metadata": {
      "tags": []
     },
     "output_type": "execute_result"
    }
   ],
   "source": [
    "result_df.sort_values('rank_test_score', ascending=False).tail(10)"
   ]
  },
  {
   "cell_type": "code",
   "execution_count": null,
   "metadata": {
    "colab": {},
    "colab_type": "code",
    "id": "Nt8wfCP7OTf2",
    "outputId": "faa5c4a5-d588-4664-ddc3-f0ceb64912b6"
   },
   "outputs": [
    {
     "data": {
      "image/png": "[encoded data removed]",
      "text/plain": [
       "<Figure size 636.025x360 with 1 Axes>"
      ]
     },
     "metadata": {
      "needs_background": "light",
      "tags": []
     },
     "output_type": "display_data"
    }
   ],
   "source": [
    "ax = sns.catplot(data=result_df, x=\"dim_D\", y=\"mean_test_score\", hue='sigma2', kind='bar', aspect=1.5)"
   ]
  },
  {
   "cell_type": "markdown",
   "metadata": {
    "colab_type": "text",
    "id": "ivTExRghOTf4"
   },
   "source": [
    "# Result\n",
    "\n",
    "the best hyperparameters of PMF model for super-small movieLens datasets seems to be\n",
    "\n",
    "- the factor of regularization term $\\lambda \\sigma^2 = 1$ \n",
    "- the feature space dimension $D = \\text{dim(U's col)} = 2$\n",
    "\n",
    "# Discussion\n",
    "This result is suprising for me, and I iamgined large feature space should have better test score at first.\n",
    "\n",
    "### Is iteration enough for large feature dimension update? - Yes, it is\n",
    "In grid search cross validation, I used 10 iterations to update $q(U)$ and $q(V)$\n",
    "In next jupyter notebook, I verified iteration size is enough even if the feature dimension is 10 or 15"
   ]
  },
  {
   "cell_type": "code",
   "execution_count": null,
   "metadata": {
    "colab": {},
    "colab_type": "code",
    "id": "5CEtI5-NOTf4"
   },
   "outputs": [],
   "source": []
  }
 ],
 "metadata": {
  "colab": {
   "collapsed_sections": [],
   "include_colab_link": true,
   "name": "001_ablation_study.ipynb",
   "provenance": []
  },
  "kernelspec": {
   "display_name": "Python 3.8.0 64-bit ('3.8.0': pyenv)",
   "language": "python",
   "name": "python38064bit380pyenv35ff698b3a7146b0bfb87c75595d48f6"
  },
  "language_info": {
   "codemirror_mode": {
    "name": "ipython",
    "version": 3
   },
   "file_extension": ".py",
   "mimetype": "text/x-python",
   "name": "python",
   "nbconvert_exporter": "python",
   "pygments_lexer": "ipython3",
   "version": "3.8.0"
  }
 },
 "nbformat": 4,
 "nbformat_minor": 4
}
